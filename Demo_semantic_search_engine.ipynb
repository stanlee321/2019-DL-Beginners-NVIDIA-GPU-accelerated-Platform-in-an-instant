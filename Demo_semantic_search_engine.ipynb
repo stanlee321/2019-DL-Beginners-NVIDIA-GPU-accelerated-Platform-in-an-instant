{
  "nbformat": 4,
  "nbformat_minor": 0,
  "metadata": {
    "colab": {
      "name": "Demo_semantic_search_engine",
      "provenance": [],
      "collapsed_sections": [],
      "authorship_tag": "ABX9TyOorVrfBTLRQXaLnL5ccPdh",
      "include_colab_link": true
    },
    "kernelspec": {
      "name": "python3",
      "display_name": "Python 3"
    },
    "accelerator": "GPU"
  },
  "cells": [
    {
      "cell_type": "markdown",
      "metadata": {
        "id": "view-in-github",
        "colab_type": "text"
      },
      "source": [
        "<a href=\"https://colab.research.google.com/github/stanlee321/2019-DL-Beginners-NVIDIA-GPU-accelerated-Platform-in-an-instant/blob/master/Demo_semantic_search_engine.ipynb\" target=\"_parent\"><img src=\"https://colab.research.google.com/assets/colab-badge.svg\" alt=\"Open In Colab\"/></a>"
      ]
    },
    {
      "cell_type": "code",
      "metadata": {
        "id": "GQXwrDA97dtM",
        "colab_type": "code",
        "colab": {}
      },
      "source": [
        "%%capture\n",
        "!pip install tensorflow_text"
      ],
      "execution_count": 0,
      "outputs": []
    },
    {
      "cell_type": "code",
      "metadata": {
        "id": "tkHvna1E_FiQ",
        "colab_type": "code",
        "outputId": "fd9d278d-fddf-435d-8da0-7fd156a8894c",
        "colab": {
          "base_uri": "https://localhost:8080/",
          "height": 357
        }
      },
      "source": [
        "!nvidia-smi"
      ],
      "execution_count": 57,
      "outputs": [
        {
          "output_type": "stream",
          "text": [
            "Tue Jun 16 00:15:08 2020       \n",
            "+-----------------------------------------------------------------------------+\n",
            "| NVIDIA-SMI 450.36.06    Driver Version: 418.67       CUDA Version: 10.1     |\n",
            "|-------------------------------+----------------------+----------------------+\n",
            "| GPU  Name        Persistence-M| Bus-Id        Disp.A | Volatile Uncorr. ECC |\n",
            "| Fan  Temp  Perf  Pwr:Usage/Cap|         Memory-Usage | GPU-Util  Compute M. |\n",
            "|                               |                      |               MIG M. |\n",
            "|===============================+======================+======================|\n",
            "|   0  Tesla T4            Off  | 00000000:00:04.0 Off |                    0 |\n",
            "| N/A   72C    P0    32W /  70W |   2331MiB / 15079MiB |      0%      Default |\n",
            "|                               |                      |                 ERR! |\n",
            "+-------------------------------+----------------------+----------------------+\n",
            "                                                                               \n",
            "+-----------------------------------------------------------------------------+\n",
            "| Processes:                                                                  |\n",
            "|  GPU   GI   CI        PID   Type   Process name                  GPU Memory |\n",
            "|        ID   ID                                                   Usage      |\n",
            "|=============================================================================|\n",
            "|  No running processes found                                                 |\n",
            "+-----------------------------------------------------------------------------+\n"
          ],
          "name": "stdout"
        }
      ]
    },
    {
      "cell_type": "code",
      "metadata": {
        "id": "6ZWqeqrqub3J",
        "colab_type": "code",
        "colab": {}
      },
      "source": [
        "import tensorflow_text\n",
        "import tensorflow_hub as hub\n",
        "\n",
        "# from rake_nltk import Rake\n",
        "import tensorflow.compat.v2 as tf"
      ],
      "execution_count": 0,
      "outputs": []
    },
    {
      "cell_type": "code",
      "metadata": {
        "id": "TmYISwN8yfQY",
        "colab_type": "code",
        "colab": {
          "base_uri": "https://localhost:8080/",
          "height": 71
        },
        "outputId": "5ad1c893-1f52-47b3-861b-a2830a1ce225"
      },
      "source": [
        "from sklearn.metrics.pairwise import cosine_similarity\n",
        "import numpy as np\n",
        "import pandas as pd\n",
        "import seaborn as sns"
      ],
      "execution_count": 60,
      "outputs": [
        {
          "output_type": "stream",
          "text": [
            "/usr/local/lib/python3.6/dist-packages/statsmodels/tools/_testing.py:19: FutureWarning: pandas.util.testing is deprecated. Use the functions in the public API at pandas.testing instead.\n",
            "  import pandas.util.testing as tm\n"
          ],
          "name": "stderr"
        }
      ]
    },
    {
      "cell_type": "code",
      "metadata": {
        "id": "8WvzVESmu7tu",
        "colab_type": "code",
        "colab": {}
      },
      "source": [
        "# The 16-language multilingual module is the default but feel free\n",
        "# to pick others from the list and compare the results.\n",
        "module_url = 'https://tfhub.dev/google/universal-sentence-encoder-multilingual/3' #@param ['https://tfhub.dev/google/universal-sentence-encoder-multilingual/3', 'https://tfhub.dev/google/universal-sentence-encoder-multilingual-large/3']\n",
        "\n"
      ],
      "execution_count": 0,
      "outputs": []
    },
    {
      "cell_type": "code",
      "metadata": {
        "id": "gpVQcBO0veVq",
        "colab_type": "code",
        "colab": {}
      },
      "source": [
        "# Import the Universal Sentence Encoder's TF Hub module\n",
        "embed = hub.load(module_url)\n"
      ],
      "execution_count": 0,
      "outputs": []
    },
    {
      "cell_type": "code",
      "metadata": {
        "id": "QtnkK06f7UGX",
        "colab_type": "code",
        "colab": {}
      },
      "source": [
        "def embed_text(input_text):\n",
        "    #with tf.device('/gpu:0'):\n",
        "    return embed(input_text)"
      ],
      "execution_count": 0,
      "outputs": []
    },
    {
      "cell_type": "code",
      "metadata": {
        "id": "TL44g0eCyaC6",
        "colab_type": "code",
        "colab": {}
      },
      "source": [
        "def prepare_similarity(vectors):\n",
        "    similarity=cosine_similarity(vectors)\n",
        "    return similarity\n",
        "\n",
        "def get_top_similar(sentence, sentence_list, similarity_matrix, topN):\n",
        "    # find the index of sentence in list\n",
        "    index = sentence_list.index(sentence)\n",
        "    # get the corresponding row in similarity matrix\n",
        "    similarity_row = np.array(similarity_matrix[index, :])\n",
        "    # get the indices of top similar\n",
        "    indices = similarity_row.argsort()[-topN:][::-1]\n",
        "    return [(i,sentence_list[i]) for i in indices]"
      ],
      "execution_count": 0,
      "outputs": []
    },
    {
      "cell_type": "code",
      "metadata": {
        "id": "eg3_XiZPYHop",
        "colab_type": "code",
        "colab": {}
      },
      "source": [
        "# Some texts of different lengths.\n",
        "english_sentences = [\"dog\", \"Puppies are nice.\", \"I enjoy taking long walks along the beach with my dog.\"]\n",
        "italian_sentences = [\"cane\", \"I cuccioli sono carini.\", \"Mi piace fare lunghe passeggiate lungo la spiaggia con il mio cane.\"]\n",
        "spanish_sentences = [\"El perro\", \"buen perro\", \"amo mucho salir a pasear con mi perro\"]\n",
        "japanese_sentences = [\"犬\", \"子犬はいいです\", \"私は犬と一緒にビーチを散歩するのが好きです\"]\n",
        "\n",
        "\n",
        "# Compute embeddings.\n",
        "en_result = embed_text(english_sentences)\n",
        "it_result = embed_text(italian_sentences)\n",
        "sp_result = embed_text(spanish_sentences)\n",
        "ja_result = embed_text(japanese_sentences)\n",
        "\n",
        "# Compute similarity matrix. Higher score indicates greater similarity.\n",
        "similarity_matrix_en = np.inner(en_result, sp_result)\n",
        "similarity_matrix_it = np.inner(en_result, it_result)\n",
        "similarity_matrix_ja = np.inner(en_result, ja_result)"
      ],
      "execution_count": 0,
      "outputs": []
    },
    {
      "cell_type": "code",
      "metadata": {
        "id": "KrzkPppwYdTp",
        "colab_type": "code",
        "outputId": "e3eed66b-6acb-4f6f-a966-69afd2a72b6b",
        "colab": {
          "base_uri": "https://localhost:8080/",
          "height": 68
        }
      },
      "source": [
        "similarity_matrix_en"
      ],
      "execution_count": 67,
      "outputs": [
        {
          "output_type": "execute_result",
          "data": {
            "text/plain": [
              "array([[0.85105795, 0.6538782 , 0.43803352],\n",
              "       [0.42044345, 0.5356836 , 0.3181645 ],\n",
              "       [0.21767904, 0.25152522, 0.63525796]], dtype=float32)"
            ]
          },
          "metadata": {
            "tags": []
          },
          "execution_count": 67
        }
      ]
    },
    {
      "cell_type": "code",
      "metadata": {
        "id": "lyeoVBI8gsq8",
        "colab_type": "code",
        "colab": {
          "base_uri": "https://localhost:8080/",
          "height": 554
        },
        "outputId": "eac18a8a-7d16-409b-d858-1c01b7df2869"
      },
      "source": [
        "sns.set(font_scale=1.2)\n",
        "g = sns.heatmap(\n",
        "    similarity_matrix_en,\n",
        "    xticklabels=spanish_sentences,\n",
        "    yticklabels=english_sentences,\n",
        "    vmin=0,\n",
        "    vmax=1,\n",
        "    cmap=\"YlOrRd\")\n",
        "\n",
        "g.set_xticklabels(spanish_sentences, rotation=90)\n",
        "g.set_title(\"Semantic Textual Similarity\")"
      ],
      "execution_count": 66,
      "outputs": [
        {
          "output_type": "execute_result",
          "data": {
            "text/plain": [
              "Text(0.5, 1.0, 'Semantic Textual Similarity')"
            ]
          },
          "metadata": {
            "tags": []
          },
          "execution_count": 66
        },
        {
          "output_type": "display_data",
          "data": {
            "image/png": "[encoded data removed]",
            "text/plain": [
              "<Figure size 432x288 with 2 Axes>"
            ]
          },
          "metadata": {
            "tags": []
          }
        }
      ]
    },
    {
      "cell_type": "markdown",
      "metadata": {
        "id": "lpNyL6pBgdFj",
        "colab_type": "text"
      },
      "source": [
        "## Practical example"
      ]
    },
    {
      "cell_type": "code",
      "metadata": {
        "id": "CQuV7xmgYFlt",
        "colab_type": "code",
        "colab": {}
      },
      "source": [
        ""
      ],
      "execution_count": 0,
      "outputs": []
    },
    {
      "cell_type": "code",
      "metadata": {
        "id": "mHzFFKhhwASj",
        "colab_type": "code",
        "outputId": "9ccd5a23-3b9b-40e2-d6f8-316daf6b4155",
        "colab": {
          "base_uri": "https://localhost:8080/",
          "height": 221
        }
      },
      "source": [
        "input_file_path = \"https://raw.githubusercontent.com/stanlee321/NLP-and-industry/master/data/reports/all_reports.csv\"\n",
        "\n",
        "df = pd.read_csv(input_file_path)\n",
        "print(df.shape)\n",
        "df.head()\n",
        "\n"
      ],
      "execution_count": 0,
      "outputs": [
        {
          "output_type": "stream",
          "text": [
            "(21463, 1)\n"
          ],
          "name": "stdout"
        },
        {
          "output_type": "execute_result",
          "data": {
            "text/html": [
              "<div>\n",
              "<style scoped>\n",
              "    .dataframe tbody tr th:only-of-type {\n",
              "        vertical-align: middle;\n",
              "    }\n",
              "\n",
              "    .dataframe tbody tr th {\n",
              "        vertical-align: top;\n",
              "    }\n",
              "\n",
              "    .dataframe thead th {\n",
              "        text-align: right;\n",
              "    }\n",
              "</style>\n",
              "<table border=\"1\" class=\"dataframe\">\n",
              "  <thead>\n",
              "    <tr style=\"text-align: right;\">\n",
              "      <th></th>\n",
              "      <th>reports</th>\n",
              "    </tr>\n",
              "  </thead>\n",
              "  <tbody>\n",
              "    <tr>\n",
              "      <th>0</th>\n",
              "      <td>Falla en la body III, error 19 en varias oport...</td>\n",
              "    </tr>\n",
              "    <tr>\n",
              "      <th>1</th>\n",
              "      <td>Falla en light tester expulsion de latas deja...</td>\n",
              "    </tr>\n",
              "    <tr>\n",
              "      <th>2</th>\n",
              "      <td>Falla en printer mensaje constantede area de ...</td>\n",
              "    </tr>\n",
              "    <tr>\n",
              "      <th>3</th>\n",
              "      <td>Falla en body III stop relay safety se reinic...</td>\n",
              "    </tr>\n",
              "    <tr>\n",
              "      <th>4</th>\n",
              "      <td>Verificacion de motor DC del desnatador que sa...</td>\n",
              "    </tr>\n",
              "  </tbody>\n",
              "</table>\n",
              "</div>"
            ],
            "text/plain": [
              "                                             reports\n",
              "0  Falla en la body III, error 19 en varias oport...\n",
              "1   Falla en light tester expulsion de latas deja...\n",
              "2   Falla en printer mensaje constantede area de ...\n",
              "3   Falla en body III stop relay safety se reinic...\n",
              "4  Verificacion de motor DC del desnatador que sa..."
            ]
          },
          "metadata": {
            "tags": []
          },
          "execution_count": 17
        }
      ]
    },
    {
      "cell_type": "code",
      "metadata": {
        "id": "o8hG4jiIJUKw",
        "colab_type": "code",
        "outputId": "84716f48-3207-49d2-b0fa-ce183e514e10",
        "colab": {
          "base_uri": "https://localhost:8080/",
          "height": 153
        }
      },
      "source": [
        "df.info()"
      ],
      "execution_count": 0,
      "outputs": [
        {
          "output_type": "stream",
          "text": [
            "<class 'pandas.core.frame.DataFrame'>\n",
            "RangeIndex: 21463 entries, 0 to 21462\n",
            "Data columns (total 1 columns):\n",
            " #   Column   Non-Null Count  Dtype \n",
            "---  ------   --------------  ----- \n",
            " 0   reports  21463 non-null  object\n",
            "dtypes: object(1)\n",
            "memory usage: 167.8+ KB\n"
          ],
          "name": "stdout"
        }
      ]
    },
    {
      "cell_type": "code",
      "metadata": {
        "id": "wgFTli50U1jQ",
        "colab_type": "code",
        "outputId": "c943cf34-aa27-4ebc-d5ff-c0a87af8772c",
        "colab": {
          "base_uri": "https://localhost:8080/",
          "height": 71
        }
      },
      "source": [
        "sentence_list =  list(df[\"reports\"].values)\n",
        "\n",
        "print(len(sentence_list))\n",
        "print(sentence_list[:10])\n"
      ],
      "execution_count": 0,
      "outputs": [
        {
          "output_type": "stream",
          "text": [
            "21463\n",
            "['Falla en la body III, error 19 en varias oportunidades, se restablecio ', ' Falla en light tester expulsion de latas deja pasar 4 latas con defecto, se coloco en modo learner y se subio la sencibilidad, pruebas Ok ', ' Falla en printer mensaje constantede area de seguridad, se restablecio ', ' Falla en body III stop relay safety se reinicio nuevamente se restauro falla ', 'Verificacion de motor DC del desnatador que salio del tanque superiror,  encontrandose este con corto circuito en un grupo de bobinas del inducido, por reembobinar ', ' Se realizo mtto de motor DC desnatador tanque subterraneo se encontro con colector contaminado con desgaste de carbon y coolant, portaq escobolillas recalentados y deformados,  se coloco tapa y portaescobillas del otro dañado, falta cambiar los carbones y pruebas ', '  Instalacion de cable  y corraza para motor del filtro prensa, inst. de selenoides, por culminar conecciones ', 'Se concluyo con las conecciones en la filtro prensa, revision del circuito de control y fuerza, se realizo las conecciones en borneras, se realizo pruebas del sistema de control en vacio Ok, falta realizar pruebas con carga ', 'Falla en variador de la printer por sobrecarga, se restablecio ', 'Falla motor de skimer desnatador tanque subterraneo, se encontro con carbon aislado del colector, se procedio a fabricar otro, amoldado del mismo en el colector, medicion de los mismos con bajo ohmeaje, armado y pruebas en banco, existe mucha vibracion posible desgaste de bujes de sujecion, montaje en maquina, por realizar seguimiento ']\n"
          ],
          "name": "stdout"
        }
      ]
    },
    {
      "cell_type": "code",
      "metadata": {
        "id": "DcjJbqcHTdXO",
        "colab_type": "code",
        "colab": {}
      },
      "source": [
        "batch_size = 2048\n",
        "\n",
        "\n",
        "list_df = [df[i:i+batch_size][[\"reports\"]].values for i in range(0,df.shape[0], batch_size)]"
      ],
      "execution_count": 0,
      "outputs": []
    },
    {
      "cell_type": "code",
      "metadata": {
        "id": "0OuGpCyMH_b3",
        "colab_type": "code",
        "outputId": "b65d3c56-c259-40b3-bdd9-73e983c00b1f",
        "colab": {
          "base_uri": "https://localhost:8080/",
          "height": 238
        }
      },
      "source": [
        "language_embeddings = []\n",
        "print('\\nComputing  embeddings')\n",
        "\n",
        "for batch in list_df:\n",
        "    language_embeddings.extend(embed_text(batch))\n",
        "    print(len(batch))"
      ],
      "execution_count": 0,
      "outputs": [
        {
          "output_type": "stream",
          "text": [
            "\n",
            "Computing  embeddings\n",
            "2048\n",
            "2048\n",
            "2048\n",
            "2048\n",
            "2048\n",
            "2048\n",
            "2048\n",
            "2048\n",
            "2048\n",
            "2048\n",
            "983\n"
          ],
          "name": "stdout"
        }
      ]
    },
    {
      "cell_type": "code",
      "metadata": {
        "id": "JY6pY6X5WP6J",
        "colab_type": "code",
        "outputId": "13ab81e1-b78f-4db3-e557-7a6e0e0e9ab8",
        "colab": {
          "base_uri": "https://localhost:8080/",
          "height": 34
        }
      },
      "source": [
        "print(len(language_embeddings))"
      ],
      "execution_count": 0,
      "outputs": [
        {
          "output_type": "stream",
          "text": [
            "21463\n"
          ],
          "name": "stdout"
        }
      ]
    },
    {
      "cell_type": "code",
      "metadata": {
        "id": "Y-PeppbhLvVH",
        "colab_type": "code",
        "colab": {}
      },
      "source": [
        "%%capture\n",
        "\n",
        "!pip install simpleneighbors[annoy]\n"
      ],
      "execution_count": 0,
      "outputs": []
    },
    {
      "cell_type": "code",
      "metadata": {
        "id": "ogSF-mnFLya5",
        "colab_type": "code",
        "colab": {}
      },
      "source": [
        "from simpleneighbors import SimpleNeighbors"
      ],
      "execution_count": 0,
      "outputs": []
    },
    {
      "cell_type": "code",
      "metadata": {
        "id": "nqVEwQPoLHp9",
        "colab_type": "code",
        "colab": {}
      },
      "source": [
        "from tqdm import trange"
      ],
      "execution_count": 0,
      "outputs": []
    },
    {
      "cell_type": "code",
      "metadata": {
        "id": "hBpAkN6SKzSG",
        "colab_type": "code",
        "outputId": "1567fe23-3280-491f-edad-3948f5e564da",
        "colab": {
          "base_uri": "https://localhost:8080/",
          "height": 34
        }
      },
      "source": [
        "embedding_dimensions = len(list(language_embeddings)[0])\n",
        "embedding_dimensions"
      ],
      "execution_count": 0,
      "outputs": [
        {
          "output_type": "execute_result",
          "data": {
            "text/plain": [
              "512"
            ]
          },
          "metadata": {
            "tags": []
          },
          "execution_count": 31
        }
      ]
    },
    {
      "cell_type": "code",
      "metadata": {
        "id": "WR2MqRJ7UaSe",
        "colab_type": "code",
        "outputId": "9a3f9e08-044d-4c04-ba57-7ae1c8c865f0",
        "colab": {
          "base_uri": "https://localhost:8080/",
          "height": 51
        }
      },
      "source": [
        "num_index_trees = 40\n",
        "print('\\nAdding embeddings to index')\n",
        "\n",
        "index = SimpleNeighbors(embedding_dimensions, metric='dot')\n"
      ],
      "execution_count": 0,
      "outputs": [
        {
          "output_type": "stream",
          "text": [
            "\n",
            "Adding embeddings to index\n"
          ],
          "name": "stdout"
        }
      ]
    },
    {
      "cell_type": "code",
      "metadata": {
        "id": "dxJ3usVfUssN",
        "colab_type": "code",
        "outputId": "33ae50f7-ab24-4221-9099-3361c5627cf6",
        "colab": {
          "base_uri": "https://localhost:8080/",
          "height": 34
        }
      },
      "source": [
        "for i in trange(len(sentence_list)):\n",
        "    index.add_one(sentence_list[i], language_embeddings[i])"
      ],
      "execution_count": 0,
      "outputs": [
        {
          "output_type": "stream",
          "text": [
            "100%|██████████| 21463/21463 [51:06<00:00,  7.00it/s]\n"
          ],
          "name": "stderr"
        }
      ]
    },
    {
      "cell_type": "code",
      "metadata": {
        "id": "Rdz6elouUpgB",
        "colab_type": "code",
        "colab": {}
      },
      "source": [
        "index.build(n=num_index_trees)"
      ],
      "execution_count": 0,
      "outputs": []
    },
    {
      "cell_type": "code",
      "metadata": {
        "id": "UMepxpWUMkWa",
        "colab_type": "code",
        "outputId": "9101cd3e-65c0-4fe4-a250-fa47bdf213c4",
        "colab": {
          "base_uri": "https://localhost:8080/",
          "height": 921
        }
      },
      "source": [
        "sample_query = 'Falla en sensor'  #@param [\"Global warming\", \"Researchers made a surprising new discovery last week.\", \"The stock market fell four points.\", \"Lawmakers will vote on the proposal tomorrow.\"] {allow-input: true}\n",
        "num_results = 50  #@param {type:\"slider\", min:0, max:100, step:10}\n",
        "\n",
        "query_embedding = embed_text(sample_query)[0]\n",
        "search_results = index.nearest(query_embedding, n=num_results)\n",
        "\n",
        "print(' sentences similar to: \"{}\"\\n'.format(sample_query))\n",
        "search_results"
      ],
      "execution_count": 0,
      "outputs": [
        {
          "output_type": "stream",
          "text": [
            " sentences similar to: \"Falla en sensor\"\n",
            "\n"
          ],
          "name": "stdout"
        },
        {
          "output_type": "execute_result",
          "data": {
            "text/plain": [
              "['Falla en sensores del desembobinador desalineados ',\n",
              " ' Alineado de sensores en desenbobinador ',\n",
              " ' Falla en sensores del desembobinador, se restablecio ',\n",
              " ' Falla en sensores del desembobinador, se restablecio ',\n",
              " ' Desconexion de sensores de trokel de cupper',\n",
              " 'Falla desembobinador por sensores ,',\n",
              " ' limpiado del sensor de flama',\n",
              " ' limpiado del sensor de flama',\n",
              " 'Falla desembobinador por sensores se alineo,',\n",
              " ' Falla desembobinador por sensores desalineados se repuso,',\n",
              " 'Falla sensor de lengüeta de paletizadora conector de sensor suelto se ajusto,',\n",
              " ' Mantenimiento de sensores en inside spray  ',\n",
              " ' Falla en el sensor del volante de la Body I.',\n",
              " 'uvicacion de sensores,',\n",
              " 'uvicacion de sensores,',\n",
              " 'Falla sensor de stop aire en entrada de nekers se laino,',\n",
              " ' Falla en desembinador sensor desalineado, se alineo.',\n",
              " ' Calibracion de sensor sencon,',\n",
              " ' Falla en sensor PRX25 de transporte, sensor  no se encontraba en su posición ',\n",
              " 'Falla en sensor de salida light tester, hace parar  consecuente, se verifico y se reviso sensibilida muy sensible, se saco sensor haste colocar.',\n",
              " 'Falla en cangate body I, se reviso sensor, sensores de sincronizacion trimmer un sensor suelto se aseguro y se restauro falla, se realizo pruebas ok.',\n",
              " 'falla en can gate de la body II se reviza programa señales de los sensores se limpia sensores y se asjuta sensibilidad del sensor I:5',\n",
              " ' Falla cabezal 2 por sensor de correa se ajusto sencibilidad de sensor,',\n",
              " 'Falla back oven sensor de flama,',\n",
              " ' Falla en la Cupper sensor de lamina, se acerco un poco ',\n",
              " 'Pruebas en banco de sensores Sense ',\n",
              " 'Falla en body II short can falso, falla en señal de sensor ',\n",
              " 'falla paletizadora problema de sensores  se sincronizo,',\n",
              " 'Conpresor 2 sensores',\n",
              " 'Falla neker flanyer por sensor con señal falsa en la salida se ajusto sensor y se renicio,',\n",
              " 'Falla neker flanyer por sensor con señal falsa en la salida se ajusto sensor y se renicio,',\n",
              " ' Se alineo sensores de desembobinador,',\n",
              " 'Se alineo sensores de desembobinador,',\n",
              " ' Falla en body  I, por Die Sensor se reviso angulos ',\n",
              " 'instalacion de sensores para dosificacion',\n",
              " ' Falla sensores de desembobinador se alineo ,',\n",
              " 'Falla en el sensor del Volante PRX4 (Flyweel Motion) sensor suelto y placa de testeo de aluminio suelto espocible que estaba chocando al sensor se realizo ajuste',\n",
              " 'Falla en el sensor del Volante PRX4 (Flyweel Motion) sensor suelto y placa de testeo de aluminio suelto espocible que estaba chocando al sensor se realizo ajuste',\n",
              " 'Falla en Cupper sensores desordenados se cambio de posicion y ajusto sensibilidad pruebas ok ',\n",
              " ' Falla sensores del desembobinador se alineo ,',\n",
              " ' Se cambio sensor contactor reles tipo borneras,',\n",
              " ' Se cambio sensor contactor reles tipo borneras,',\n",
              " 'Falla en body 2 por short can falso se reviso se acerco sensor se ajusto sin resultados se busco sensor no se encontro se  cambio por otro sensor usado en peores condiciones se devolvio el mismo ',\n",
              " 'Falla paletizadora proble de sensor de lengüeta se ajusto,',\n",
              " ' Falla en estacion 2 necker 1 PRX2, se corrigio distancia de sensor de acumulacion, se aseguro sensor.',\n",
              " ' Alineacion de sensores desembobinador.',\n",
              " ' Alineacion de sensores desembobinador.',\n",
              " ' Falla conector de sensor de copas en body maker3 sensor se encuentra en mal estado,',\n",
              " 'Falla en sensores de seguridad paletizadora , se realizo alinemiento, se reseteo, y se volvio a sincronizar sensores, se realizo pruebas ok, se restauto falla.',\n",
              " ' Mantenimiento de sensores inside spray ,']"
            ]
          },
          "metadata": {
            "tags": []
          },
          "execution_count": 35
        }
      ]
    },
    {
      "cell_type": "code",
      "metadata": {
        "id": "_Op7F5szm_mF",
        "colab_type": "code",
        "colab": {}
      },
      "source": [
        "def generate_matches(df, search_results):\n",
        "\n",
        "    dfs_list = []\n",
        "\n",
        "    for comment in search_results:\n",
        "        dfs_list.append(df[df.loc(axis=1)[\"reports\"] == comment])\n",
        "        \n",
        "    return pd.concat(dfs_list, axis=0)"
      ],
      "execution_count": 0,
      "outputs": []
    },
    {
      "cell_type": "markdown",
      "metadata": {
        "id": "-4t_FjlsW10H",
        "colab_type": "text"
      },
      "source": [
        "## Save model"
      ]
    },
    {
      "cell_type": "code",
      "metadata": {
        "id": "m7HuZ54khaKV",
        "colab_type": "code",
        "colab": {}
      },
      "source": [
        "index.save(\"mante_comments_emb\")"
      ],
      "execution_count": 0,
      "outputs": []
    },
    {
      "cell_type": "code",
      "metadata": {
        "id": "6injpHp0huKt",
        "colab_type": "code",
        "colab": {}
      },
      "source": [
        "index_2 = SimpleNeighbors(embedding_dimensions, metric='dot')"
      ],
      "execution_count": 0,
      "outputs": []
    },
    {
      "cell_type": "markdown",
      "metadata": {
        "id": "9OvNy9MAW5t9",
        "colab_type": "text"
      },
      "source": [
        "## Load Model"
      ]
    },
    {
      "cell_type": "code",
      "metadata": {
        "id": "-cWuftJUhhR9",
        "colab_type": "code",
        "colab": {}
      },
      "source": [
        "index_load = index_2.load(\"mante_comments_emb\")"
      ],
      "execution_count": 0,
      "outputs": []
    },
    {
      "cell_type": "code",
      "metadata": {
        "id": "GSq-ZgL4h0Sq",
        "colab_type": "code",
        "outputId": "c62df225-dc36-4e9a-d82e-23a383f6afec",
        "colab": {
          "base_uri": "https://localhost:8080/",
          "height": 901
        }
      },
      "source": [
        "sample_query = 'Mantenimiento anual motor'  #@param [\"Global warming\", \"Researchers made a surprising new discovery last week.\", \"The stock market fell four points.\", \"Lawmakers will vote on the proposal tomorrow.\"] {allow-input: true}\n",
        "num_results = 50  #@param {type:\"slider\", min:0, max:200, step:5}\n",
        "\n",
        "query_embedding = embed_text(sample_query)[0]\n",
        "search_results = index_load.nearest(query_embedding, n=num_results)\n",
        "\n",
        "print(' sentences similar to: \"{}\"\\n'.format(sample_query))\n",
        "\n",
        "\n",
        "df_query = generate_matches(df, search_results)\n",
        "\n",
        "search_results\n"
      ],
      "execution_count": 52,
      "outputs": [
        {
          "output_type": "stream",
          "text": [
            " sentences similar to: \"Mantenimiento anual motor\"\n",
            "\n"
          ],
          "name": "stdout"
        },
        {
          "output_type": "execute_result",
          "data": {
            "text/plain": [
              "['Mantenimiento anual',\n",
              " 'Mantenimiento anual',\n",
              " 'Mantenimiento anual',\n",
              " 'mantenimiento anual',\n",
              " 'mantenimiento anual',\n",
              " 'mantenimiento anual',\n",
              " 'Mantenimiento mensual',\n",
              " 'Mantenimiento mensual',\n",
              " 'Mantenimiento mensual ',\n",
              " 'Mantenimiento mensual',\n",
              " 'llenado de cartillas de motores',\n",
              " 'Habilitacion motores tablero carpinteria ',\n",
              " ' Mantenimiento de motor M45 de transporte ',\n",
              " ' Mantenimiento de motor M45 de transporte ',\n",
              " ' Apoyo en suspension de motor de ciclon ',\n",
              " ' Barnizado de motor de coolant ',\n",
              " 'Mantenimiento electrico ',\n",
              " 'Mantenimiento electrico  ',\n",
              " 'Fiesta de fin de año',\n",
              " 'Fiesta de fin de año ',\n",
              " 'Fiesta de fin de Año',\n",
              " 'motor final body y nave produccion ',\n",
              " 'Medicion de distancias motores nuevo transporte.',\n",
              " 'Mantenimiento Anual ',\n",
              " 'Mantenimiento Anual ',\n",
              " 'Mantenimiento Anual ',\n",
              " 'Mantenimiento Anual ',\n",
              " 'Mantenimiento Anual',\n",
              " 'Mantenimiento Anual',\n",
              " 'Mantenimiento Anual',\n",
              " 'Mantenimiento Anual ',\n",
              " 'Mantenimiento Anual ',\n",
              " 'Mantenimiento Anual ',\n",
              " 'Mantenimiento Anual ',\n",
              " 'Mantenimiento Anual ',\n",
              " 'Mantenimiento Anual ',\n",
              " 'Mantenimiento Anual ',\n",
              " 'Mantenimiento Anual ',\n",
              " 'Mantenimiento Anual ',\n",
              " 'Mantenimiento Anual ',\n",
              " 'Mantenimiento Anual ',\n",
              " 'Mantenimiento Anual',\n",
              " 'Mantenimiento Anual ',\n",
              " 'Mantenimiento Anual ',\n",
              " 'Mantenimiento Anual ',\n",
              " 'Mantenimiento Anual ',\n",
              " 'Mantenimiento Anual ',\n",
              " 'Mantenimiento Anual ',\n",
              " 'Mantenimiento Anual ',\n",
              " 'Mantenimiento Anual ']"
            ]
          },
          "metadata": {
            "tags": []
          },
          "execution_count": 52
        }
      ]
    },
    {
      "cell_type": "code",
      "metadata": {
        "id": "xvkzqp9YeHKe",
        "colab_type": "code",
        "colab": {
          "base_uri": "https://localhost:8080/",
          "height": 204
        },
        "outputId": "c3b055ae-f3e4-4eb1-caee-c0c3f313388e"
      },
      "source": [
        "df_query.head()"
      ],
      "execution_count": 53,
      "outputs": [
        {
          "output_type": "execute_result",
          "data": {
            "text/html": [
              "<div>\n",
              "<style scoped>\n",
              "    .dataframe tbody tr th:only-of-type {\n",
              "        vertical-align: middle;\n",
              "    }\n",
              "\n",
              "    .dataframe tbody tr th {\n",
              "        vertical-align: top;\n",
              "    }\n",
              "\n",
              "    .dataframe thead th {\n",
              "        text-align: right;\n",
              "    }\n",
              "</style>\n",
              "<table border=\"1\" class=\"dataframe\">\n",
              "  <thead>\n",
              "    <tr style=\"text-align: right;\">\n",
              "      <th></th>\n",
              "      <th>reports</th>\n",
              "    </tr>\n",
              "  </thead>\n",
              "  <tbody>\n",
              "    <tr>\n",
              "      <th>1741</th>\n",
              "      <td>Mantenimiento anual</td>\n",
              "    </tr>\n",
              "    <tr>\n",
              "      <th>1742</th>\n",
              "      <td>Mantenimiento anual</td>\n",
              "    </tr>\n",
              "    <tr>\n",
              "      <th>1743</th>\n",
              "      <td>Mantenimiento anual</td>\n",
              "    </tr>\n",
              "    <tr>\n",
              "      <th>1741</th>\n",
              "      <td>Mantenimiento anual</td>\n",
              "    </tr>\n",
              "    <tr>\n",
              "      <th>1742</th>\n",
              "      <td>Mantenimiento anual</td>\n",
              "    </tr>\n",
              "  </tbody>\n",
              "</table>\n",
              "</div>"
            ],
            "text/plain": [
              "                  reports\n",
              "1741  Mantenimiento anual\n",
              "1742  Mantenimiento anual\n",
              "1743  Mantenimiento anual\n",
              "1741  Mantenimiento anual\n",
              "1742  Mantenimiento anual"
            ]
          },
          "metadata": {
            "tags": []
          },
          "execution_count": 53
        }
      ]
    },
    {
      "cell_type": "code",
      "metadata": {
        "id": "Al2-9okkdghh",
        "colab_type": "code",
        "colab": {
          "base_uri": "https://localhost:8080/",
          "height": 483
        },
        "outputId": "67d59332-44fc-42c6-ca1c-0f788f6ea721"
      },
      "source": [
        "df_query[\"reports\"] = df_query[\"reports\"].str.lstrip()\n",
        "df_query[\"reports\"] = df_query[\"reports\"].str.rstrip()\n",
        "df_query.drop_duplicates(subset='reports', keep=\"first\")"
      ],
      "execution_count": 56,
      "outputs": [
        {
          "output_type": "execute_result",
          "data": {
            "text/html": [
              "<div>\n",
              "<style scoped>\n",
              "    .dataframe tbody tr th:only-of-type {\n",
              "        vertical-align: middle;\n",
              "    }\n",
              "\n",
              "    .dataframe tbody tr th {\n",
              "        vertical-align: top;\n",
              "    }\n",
              "\n",
              "    .dataframe thead th {\n",
              "        text-align: right;\n",
              "    }\n",
              "</style>\n",
              "<table border=\"1\" class=\"dataframe\">\n",
              "  <thead>\n",
              "    <tr style=\"text-align: right;\">\n",
              "      <th></th>\n",
              "      <th>reports</th>\n",
              "    </tr>\n",
              "  </thead>\n",
              "  <tbody>\n",
              "    <tr>\n",
              "      <th>1741</th>\n",
              "      <td>Mantenimiento anual</td>\n",
              "    </tr>\n",
              "    <tr>\n",
              "      <th>11833</th>\n",
              "      <td>mantenimiento anual</td>\n",
              "    </tr>\n",
              "    <tr>\n",
              "      <th>1380</th>\n",
              "      <td>Mantenimiento mensual</td>\n",
              "    </tr>\n",
              "    <tr>\n",
              "      <th>4385</th>\n",
              "      <td>llenado de cartillas de motores</td>\n",
              "    </tr>\n",
              "    <tr>\n",
              "      <th>11546</th>\n",
              "      <td>Habilitacion motores tablero carpinteria</td>\n",
              "    </tr>\n",
              "    <tr>\n",
              "      <th>209</th>\n",
              "      <td>Mantenimiento de motor M45 de transporte</td>\n",
              "    </tr>\n",
              "    <tr>\n",
              "      <th>14844</th>\n",
              "      <td>Apoyo en suspension de motor de ciclon</td>\n",
              "    </tr>\n",
              "    <tr>\n",
              "      <th>15655</th>\n",
              "      <td>Barnizado de motor de coolant</td>\n",
              "    </tr>\n",
              "    <tr>\n",
              "      <th>2529</th>\n",
              "      <td>Mantenimiento electrico</td>\n",
              "    </tr>\n",
              "    <tr>\n",
              "      <th>13054</th>\n",
              "      <td>Fiesta de fin de año</td>\n",
              "    </tr>\n",
              "    <tr>\n",
              "      <th>13601</th>\n",
              "      <td>Fiesta de fin de Año</td>\n",
              "    </tr>\n",
              "    <tr>\n",
              "      <th>7348</th>\n",
              "      <td>motor final body y nave produccion</td>\n",
              "    </tr>\n",
              "    <tr>\n",
              "      <th>10329</th>\n",
              "      <td>Medicion de distancias motores nuevo transporte.</td>\n",
              "    </tr>\n",
              "    <tr>\n",
              "      <th>1184</th>\n",
              "      <td>Mantenimiento Anual</td>\n",
              "    </tr>\n",
              "  </tbody>\n",
              "</table>\n",
              "</div>"
            ],
            "text/plain": [
              "                                                reports\n",
              "1741                                Mantenimiento anual\n",
              "11833                               mantenimiento anual\n",
              "1380                              Mantenimiento mensual\n",
              "4385                    llenado de cartillas de motores\n",
              "11546          Habilitacion motores tablero carpinteria\n",
              "209            Mantenimiento de motor M45 de transporte\n",
              "14844            Apoyo en suspension de motor de ciclon\n",
              "15655                     Barnizado de motor de coolant\n",
              "2529                            Mantenimiento electrico\n",
              "13054                              Fiesta de fin de año\n",
              "13601                              Fiesta de fin de Año\n",
              "7348                 motor final body y nave produccion\n",
              "10329  Medicion de distancias motores nuevo transporte.\n",
              "1184                                Mantenimiento Anual"
            ]
          },
          "metadata": {
            "tags": []
          },
          "execution_count": 56
        }
      ]
    },
    {
      "cell_type": "code",
      "metadata": {
        "id": "TxHJ7g9lwpID",
        "colab_type": "code",
        "colab": {}
      },
      "source": [
        "df_query.reset_index(inplace=True, drop=True)"
      ],
      "execution_count": 0,
      "outputs": []
    },
    {
      "cell_type": "code",
      "metadata": {
        "id": "pXoplySnz_J8",
        "colab_type": "code",
        "colab": {}
      },
      "source": [
        "df_query.to_excel(\"BUSQUEDAS_mante.xlsx\")"
      ],
      "execution_count": 0,
      "outputs": []
    }
  ]
}